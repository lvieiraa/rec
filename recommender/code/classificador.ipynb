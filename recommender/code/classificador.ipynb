{
 "cells": [
  {
   "cell_type": "code",
   "execution_count": 1,
   "metadata": {},
   "outputs": [
    {
     "data": {
      "text/plain": [
       "u'0.20.3'"
      ]
     },
     "execution_count": 1,
     "metadata": {},
     "output_type": "execute_result"
    }
   ],
   "source": [
    "import pandas as pd\n",
    "import numpy as np\n",
    "from sklearn.neighbors import NearestNeighbors\n",
    "import matplotlib.pyplot as plt\n",
    "pd.__version__\n"
   ]
  },
  {
   "cell_type": "code",
   "execution_count": 4,
   "metadata": {},
   "outputs": [
    {
     "data": {
      "text/html": [
       "<div>\n",
       "<style>\n",
       "    .dataframe thead tr:only-child th {\n",
       "        text-align: right;\n",
       "    }\n",
       "\n",
       "    .dataframe thead th {\n",
       "        text-align: left;\n",
       "    }\n",
       "\n",
       "    .dataframe tbody tr th {\n",
       "        vertical-align: top;\n",
       "    }\n",
       "</style>\n",
       "<table border=\"1\" class=\"dataframe\">\n",
       "  <thead>\n",
       "    <tr style=\"text-align: right;\">\n",
       "      <th></th>\n",
       "      <th>idEvento</th>\n",
       "      <th>idLocal</th>\n",
       "      <th>inicio</th>\n",
       "      <th>cep</th>\n",
       "      <th>descricao</th>\n",
       "    </tr>\n",
       "  </thead>\n",
       "  <tbody>\n",
       "    <tr>\n",
       "      <th>0</th>\n",
       "      <td>839427782897260</td>\n",
       "      <td>8.365556e+14</td>\n",
       "      <td>2017-11-02T21:00:00-0200</td>\n",
       "      <td>30130-160</td>\n",
       "      <td>A Deserto Elétrico tem o prazer de apresentar ...</td>\n",
       "    </tr>\n",
       "    <tr>\n",
       "      <th>1</th>\n",
       "      <td>146738622578322</td>\n",
       "      <td>8.365556e+14</td>\n",
       "      <td>2017-10-21T22:00:00-0200</td>\n",
       "      <td>30130-160</td>\n",
       "      <td>Maglore chega a Belo Horizonte para o show de ...</td>\n",
       "    </tr>\n",
       "    <tr>\n",
       "      <th>2</th>\n",
       "      <td>1419099838185924</td>\n",
       "      <td>8.365556e+14</td>\n",
       "      <td>2017-10-14T21:00:00-0300</td>\n",
       "      <td>30130-160</td>\n",
       "      <td>Haroldo &amp; o Mundo e Gabriel Elias apresentam A...</td>\n",
       "    </tr>\n",
       "    <tr>\n",
       "      <th>3</th>\n",
       "      <td>116247382396886</td>\n",
       "      <td>8.365556e+14</td>\n",
       "      <td>2017-09-30T22:00:00-0300</td>\n",
       "      <td>30130-160</td>\n",
       "      <td>Domenico Lancellotti é uma figura chave na mús...</td>\n",
       "    </tr>\n",
       "    <tr>\n",
       "      <th>4</th>\n",
       "      <td>360308187734147</td>\n",
       "      <td>8.365556e+14</td>\n",
       "      <td>2017-09-29T22:00:00-0300</td>\n",
       "      <td>30130-160</td>\n",
       "      <td>O Oceania trio de rock formado por Gustavo Dru...</td>\n",
       "    </tr>\n",
       "  </tbody>\n",
       "</table>\n",
       "</div>"
      ],
      "text/plain": [
       "           idEvento       idLocal                    inicio        cep  \\\n",
       "0   839427782897260  8.365556e+14  2017-11-02T21:00:00-0200  30130-160   \n",
       "1   146738622578322  8.365556e+14  2017-10-21T22:00:00-0200  30130-160   \n",
       "2  1419099838185924  8.365556e+14  2017-10-14T21:00:00-0300  30130-160   \n",
       "3   116247382396886  8.365556e+14  2017-09-30T22:00:00-0300  30130-160   \n",
       "4   360308187734147  8.365556e+14  2017-09-29T22:00:00-0300  30130-160   \n",
       "\n",
       "                                           descricao  \n",
       "0  A Deserto Elétrico tem o prazer de apresentar ...  \n",
       "1  Maglore chega a Belo Horizonte para o show de ...  \n",
       "2  Haroldo & o Mundo e Gabriel Elias apresentam A...  \n",
       "3  Domenico Lancellotti é uma figura chave na mús...  \n",
       "4  O Oceania trio de rock formado por Gustavo Dru...  "
      ]
     },
     "execution_count": 4,
     "metadata": {},
     "output_type": "execute_result"
    }
   ],
   "source": [
    "nPe=pd.read_csv(\"eventsData.csv\")\n",
    "nPe.head()"
   ]
  },
  {
   "cell_type": "code",
   "execution_count": 6,
   "metadata": {},
   "outputs": [
    {
     "data": {
      "text/html": [
       "<div>\n",
       "<style>\n",
       "    .dataframe thead tr:only-child th {\n",
       "        text-align: right;\n",
       "    }\n",
       "\n",
       "    .dataframe thead th {\n",
       "        text-align: left;\n",
       "    }\n",
       "\n",
       "    .dataframe tbody tr th {\n",
       "        vertical-align: top;\n",
       "    }\n",
       "</style>\n",
       "<table border=\"1\" class=\"dataframe\">\n",
       "  <thead>\n",
       "    <tr style=\"text-align: right;\">\n",
       "      <th></th>\n",
       "      <th>pessoa</th>\n",
       "      <th>evento</th>\n",
       "      <th>data</th>\n",
       "    </tr>\n",
       "  </thead>\n",
       "  <tbody>\n",
       "    <tr>\n",
       "      <th>0</th>\n",
       "      <td>6.358460e+11</td>\n",
       "      <td>587863954735365</td>\n",
       "      <td>2016-12-02T22:00:00-0200</td>\n",
       "    </tr>\n",
       "    <tr>\n",
       "      <th>1</th>\n",
       "      <td>6.700180e+11</td>\n",
       "      <td>659172324282115</td>\n",
       "      <td>2017-09-15T23:00:00-0300</td>\n",
       "    </tr>\n",
       "    <tr>\n",
       "      <th>2</th>\n",
       "      <td>7.391403e+11</td>\n",
       "      <td>168340237047786</td>\n",
       "      <td>2017-09-02T23:00:00-0300</td>\n",
       "    </tr>\n",
       "    <tr>\n",
       "      <th>3</th>\n",
       "      <td>9.116652e+11</td>\n",
       "      <td>1765558203673026</td>\n",
       "      <td>2016-02-06T22:00:00-0200</td>\n",
       "    </tr>\n",
       "    <tr>\n",
       "      <th>4</th>\n",
       "      <td>9.186554e+11</td>\n",
       "      <td>1821770718038996</td>\n",
       "      <td>2016-12-10T23:00:00-0200</td>\n",
       "    </tr>\n",
       "  </tbody>\n",
       "</table>\n",
       "</div>"
      ],
      "text/plain": [
       "         pessoa            evento                      data\n",
       "0  6.358460e+11   587863954735365  2016-12-02T22:00:00-0200\n",
       "1  6.700180e+11   659172324282115  2017-09-15T23:00:00-0300\n",
       "2  7.391403e+11   168340237047786  2017-09-02T23:00:00-0300\n",
       "3  9.116652e+11  1765558203673026  2016-02-06T22:00:00-0200\n",
       "4  9.186554e+11  1821770718038996  2016-12-10T23:00:00-0200"
      ]
     },
     "execution_count": 6,
     "metadata": {},
     "output_type": "execute_result"
    }
   ],
   "source": [
    "ped=pd.read_csv(\"../eventos/pessoaEventoData.csv\")\n",
    "ped.head()"
   ]
  },
  {
   "cell_type": "code",
   "execution_count": null,
   "metadata": {},
   "outputs": [],
   "source": []
  }
 ],
 "metadata": {
  "kernelspec": {
   "display_name": "Python 2",
   "language": "python",
   "name": "python2"
  },
  "language_info": {
   "codemirror_mode": {
    "name": "ipython",
    "version": 2
   },
   "file_extension": ".py",
   "mimetype": "text/x-python",
   "name": "python",
   "nbconvert_exporter": "python",
   "pygments_lexer": "ipython2",
   "version": "2.7.13"
  }
 },
 "nbformat": 4,
 "nbformat_minor": 2
}
