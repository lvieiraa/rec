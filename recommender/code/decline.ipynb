{
 "cells": [
  {
   "cell_type": "code",
   "execution_count": 1,
   "metadata": {},
   "outputs": [],
   "source": [
    "#!/usr/bin/python\n",
    "# -*- coding: utf-8 -*-\n",
    "import sys\n",
    "reload(sys)\n",
    "sys.setdefaultencoding('utf-8')\n",
    "import json\n",
    "from pprint import pprint\n",
    "import requests\n",
    "import codecs\n",
    "\n",
    "\n",
    "def buscaDescription(Id):\n",
    "    senha = 'EAACEdEose0cBAGVT8TiAsxiHZAxZBdQm6esZAqmFA4dzUDJhCEayt6rPRRZACkarrr9mqifZAZCeRCAHeaYcsryZAcUFoDahMCWbAuWElNolZBDJMS2dQ3qerNHYQZAGa6xJoVgAFWlBuWT9erKS82JKYeKafFXpZCO2zaZAjDZBm4ZAhTzh5iPb41xDydvCsqyZA2eZAtxeqgjZA3OjFwZDZD'\n",
    "    r = requests.get(\"https://graph.facebook.com/v2.10/\"+Id+\"?fields=id,declined.limit(500)&access_token=\"+senha)\n",
    "    data = r.json()\n",
    "    print data\n",
    "\n",
    "Id = open(\"../idEeventos\", \"r\")\n",
    "\n",
    "for cada in Id:\n",
    "    buscaDescription(cada)\n"
   ]
  },
  {
   "cell_type": "code",
   "execution_count": null,
   "metadata": {},
   "outputs": [],
   "source": []
  }
 ],
 "metadata": {
  "kernelspec": {
   "display_name": "Python 2",
   "language": "python",
   "name": "python2"
  },
  "language_info": {
   "codemirror_mode": {
    "name": "ipython",
    "version": 2
   },
   "file_extension": ".py",
   "mimetype": "text/x-python",
   "name": "python",
   "nbconvert_exporter": "python",
   "pygments_lexer": "ipython2",
   "version": "2.7.10"
  }
 },
 "nbformat": 4,
 "nbformat_minor": 2
}
